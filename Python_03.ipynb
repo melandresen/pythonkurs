{
 "cells": [
  {
   "cell_type": "markdown",
   "metadata": {
    "slideshow": {
     "slide_type": "slide"
    }
   },
   "source": [
    "# Python für Geisteswissenschaftler/innen\n",
    "(Teil 3)"
   ]
  },
  {
   "cell_type": "markdown",
   "metadata": {},
   "source": [
    "Melanie Andresen\n",
    "\n",
    "[melanie.andresen@uni-hamburg.de](mailto:melanie.andresen@uni-hamburg.de)"
   ]
  },
  {
   "cell_type": "markdown",
   "metadata": {
    "slideshow": {
     "slide_type": "slide"
    }
   },
   "source": [
    "## Agenda\n",
    "### Im letzten Teil:\n",
    "* Listen\n",
    "* Boolsche Ausdrücke\n",
    "* Bedingungen\n",
    "* Schleifen\n",
    "* Dateien einlesen und schreiben"
   ]
  },
  {
   "cell_type": "markdown",
   "metadata": {
    "slideshow": {
     "slide_type": "subslide"
    }
   },
   "source": [
    "### In diesem Teil:\n",
    "* Debugging: Wo ist der Fehler?\n",
    "* Dictionaries\n",
    "* Module einbinden und nutzen\n",
    "    * os-Modul\n",
    "    * NumPy"
   ]
  },
  {
   "cell_type": "markdown",
   "metadata": {
    "slideshow": {
     "slide_type": "slide"
    }
   },
   "source": [
    "## Stil\n",
    "* Variablennamen mit Kleinbuchstaben beginnen\n",
    "* Leerzeichen zur verbesserten Lesbarkeit einsetzen:"
   ]
  },
  {
   "cell_type": "code",
   "execution_count": 1,
   "metadata": {},
   "outputs": [],
   "source": [
    "name = 'Karin'"
   ]
  },
  {
   "cell_type": "markdown",
   "metadata": {},
   "source": [
    "* Aber: keine Leerzeichen vor der Klammer bei Funktionen:"
   ]
  },
  {
   "cell_type": "code",
   "execution_count": 2,
   "metadata": {},
   "outputs": [
    {
     "name": "stdout",
     "output_type": "stream",
     "text": [
      "Wie heißt du?\n"
     ]
    }
   ],
   "source": [
    "print('Wie heißt du?')"
   ]
  },
  {
   "cell_type": "markdown",
   "metadata": {},
   "source": [
    "* Leerzeilen zwischen funktionalen Abschnitten"
   ]
  },
  {
   "cell_type": "markdown",
   "metadata": {
    "slideshow": {
     "slide_type": "subslide"
    }
   },
   "source": [
    "## Kommentare\n",
    "Kommentare im Code sind dringend notwendig,\n",
    "* damit andere Leute meinen Code verstehen.\n",
    "* damit ich meinen Code von letzter Woche verstehe."
   ]
  },
  {
   "cell_type": "markdown",
   "metadata": {
    "slideshow": {
     "slide_type": "subslide"
    }
   },
   "source": [
    "Kommentare in Python beginnen mit der Raute und einem Leerzeichen:"
   ]
  },
  {
   "cell_type": "code",
   "execution_count": 3,
   "metadata": {},
   "outputs": [],
   "source": [
    "# Hier passiert folgendes:"
   ]
  },
  {
   "cell_type": "markdown",
   "metadata": {},
   "source": [
    "Kommentare können rechts vom Code in der gleichen Zeile folgen:"
   ]
  },
  {
   "cell_type": "code",
   "execution_count": 4,
   "metadata": {},
   "outputs": [],
   "source": [
    "verben = []    # Leere Liste für die Ergebnisse"
   ]
  },
  {
   "cell_type": "markdown",
   "metadata": {
    "slideshow": {
     "slide_type": "slide"
    }
   },
   "source": [
    "## Debugging"
   ]
  },
  {
   "cell_type": "markdown",
   "metadata": {
    "slideshow": {
     "slide_type": "subslide"
    }
   },
   "source": [
    "Es funktioniert nicht. Was tun?\n",
    "\n",
    "Vorbeugen:\n",
    "* Kleinschrittig vorgehen. Immer nur wenige Veränderungen vornehmen und das Programm dann laufen lassen."
   ]
  },
  {
   "cell_type": "markdown",
   "metadata": {
    "slideshow": {
     "slide_type": "subslide"
    }
   },
   "source": [
    "Es funktioniert nicht. Was tun?\n",
    "\n",
    "* Fehlermeldungen lesen"
   ]
  },
  {
   "cell_type": "code",
   "execution_count": 5,
   "metadata": {},
   "outputs": [
    {
     "ename": "AttributeError",
     "evalue": "'str' object has no attribute 'append'",
     "output_type": "error",
     "traceback": [
      "\u001b[0;31m---------------------------------------------------------------------------\u001b[0m",
      "\u001b[0;31mAttributeError\u001b[0m                            Traceback (most recent call last)",
      "\u001b[0;32m<ipython-input-5-5f479868d33d>\u001b[0m in \u001b[0;36m<module>\u001b[0;34m\u001b[0m\n\u001b[1;32m      1\u001b[0m \u001b[0mlemmas\u001b[0m \u001b[0;34m=\u001b[0m \u001b[0;34m'Ente'\u001b[0m\u001b[0;34m\u001b[0m\u001b[0;34m\u001b[0m\u001b[0m\n\u001b[0;32m----> 2\u001b[0;31m \u001b[0mlemmas\u001b[0m\u001b[0;34m.\u001b[0m\u001b[0mappend\u001b[0m\u001b[0;34m(\u001b[0m\u001b[0;34m'Katze'\u001b[0m\u001b[0;34m)\u001b[0m\u001b[0;34m\u001b[0m\u001b[0;34m\u001b[0m\u001b[0m\n\u001b[0m",
      "\u001b[0;31mAttributeError\u001b[0m: 'str' object has no attribute 'append'"
     ]
    }
   ],
   "source": [
    "lemmas = 'Ente'\n",
    "lemmas.append('Katze')"
   ]
  },
  {
   "cell_type": "markdown",
   "metadata": {
    "slideshow": {
     "slide_type": "subslide"
    }
   },
   "source": [
    "Es funktioniert nicht. Was tun?\n",
    "\n",
    "* `print()`-Befehle einfügen: Lass dir an mehreren Stellen im Skript Zwischenergebnisse ausgeben. So kannst du sehen, ab wo das Problem entsteht. Es kann außerdem hilfreich sein, sich mit `print(type(<variable>))` den Datentyp einer Variablen ausgeben zu lassen."
   ]
  },
  {
   "cell_type": "markdown",
   "metadata": {
    "slideshow": {
     "slide_type": "subslide"
    }
   },
   "source": [
    "Es funktioniert nicht. Was tun?\n",
    "* Debugging mit PyCharm: PyCharm ermöglicht es uns, ein Skript an einer beliebigen Stelle in der Ausführung zu stoppen und die Belegung der Variablen zu sichten."
   ]
  },
  {
   "cell_type": "markdown",
   "metadata": {
    "slideshow": {
     "slide_type": "subslide"
    }
   },
   "source": [
    "Es funktioniert nicht. Was tun?\n",
    "* Rubber Duck Debugging!\n",
    "\n",
    "![](https://upload.wikimedia.org/wikipedia/commons/d/d5/Rubber_duck_assisting_with_debugging.jpg)\n",
    "[Tom Morris [CC BY-SA 3.0] from Wikimedia Commons: https://commons.wikimedia.org/wiki/File:Rubber_duck_assisting_with_debugging.jpg](https://upload.wikimedia.org/wikipedia/commons/d/d5/Rubber_duck_assisting_with_debugging.jpg)"
   ]
  },
  {
   "cell_type": "markdown",
   "metadata": {
    "slideshow": {
     "slide_type": "subslide"
    }
   },
   "source": [
    "## Rubber Ducking\n",
    "A very simple but particularly useful technique for finding the cause of a problem is simply to explain it to someone else. The other person should look over your shoulder at the screen, and nod his or her head constantly (like a rubber duck bobbing up and down in a bathtub). They do not need to say a word; the simple act of explaining, step by step, what the code is supposed to do often causes the problem to leap off the screen and announce itself. <sup>7<sup>\n",
    "*****\n",
    "7 Why “rubber ducking”? While an undergraduate at Imperial College in London, Dave did a lot of work with a research assistant named Greg Pugh, one of the best developers Dave has known. For several months Greg carried around a small yellow rubber duck, which he’d place on his terminal while coding. It was a while before Dave had the courage to ask...\n",
    "\n",
    "[Aus: Andrew Hunt & David Thomas (2000): The Pragmatic Programmer. Addison-Wesley. S.95. URL: https://www.nceclusters.no/globalassets/filer/nce/diverse/the-pragmatic-programmer.pdf](https://www.nceclusters.no/globalassets/filer/nce/diverse/the-pragmatic-programmer.pdf)"
   ]
  },
  {
   "cell_type": "markdown",
   "metadata": {
    "slideshow": {
     "slide_type": "slide"
    }
   },
   "source": [
    "## Dictionaries"
   ]
  },
  {
   "cell_type": "markdown",
   "metadata": {
    "slideshow": {
     "slide_type": "subslide"
    }
   },
   "source": [
    "Ein Dictionary enthält Datenpaare, z. B. wie ein klassisches Wörterbuch:"
   ]
  },
  {
   "cell_type": "code",
   "execution_count": 6,
   "metadata": {},
   "outputs": [],
   "source": [
    "woerterbuch = {'Ente' : 'duck', 'Käse' : 'cheese', 'Holz' : 'wood'}"
   ]
  },
  {
   "cell_type": "markdown",
   "metadata": {},
   "source": [
    "Jedes Datenpaar besteht aus einem Schlüssel (key) und einem Wert (value), die mit einem Doppelpunkt getrennt werden.\n",
    "\n",
    "Die Datenpaare werden durch Kommas voneinander getrennt."
   ]
  },
  {
   "cell_type": "markdown",
   "metadata": {
    "slideshow": {
     "slide_type": "subslide"
    }
   },
   "source": [
    "Werte abfragen:"
   ]
  },
  {
   "cell_type": "code",
   "execution_count": 7,
   "metadata": {},
   "outputs": [
    {
     "data": {
      "text/plain": [
       "'duck'"
      ]
     },
     "execution_count": 7,
     "metadata": {},
     "output_type": "execute_result"
    }
   ],
   "source": [
    "woerterbuch['Ente']"
   ]
  },
  {
   "cell_type": "markdown",
   "metadata": {},
   "source": [
    "Ergänzungen vornehmen:"
   ]
  },
  {
   "cell_type": "code",
   "execution_count": 8,
   "metadata": {},
   "outputs": [
    {
     "name": "stdout",
     "output_type": "stream",
     "text": [
      "{'Ente': 'duck', 'Käse': 'cheese', 'Holz': 'wood', 'Tee': 'tea'}\n"
     ]
    }
   ],
   "source": [
    "woerterbuch['Tee'] = 'tea'\n",
    "print(woerterbuch)"
   ]
  },
  {
   "cell_type": "markdown",
   "metadata": {
    "slideshow": {
     "slide_type": "subslide"
    }
   },
   "source": [
    "## Dicts vs. Listen\n",
    "Dicts und Listen haben einige Gemeinsamkeiten:\n",
    "\n",
    "Länge prüfen:"
   ]
  },
  {
   "cell_type": "code",
   "execution_count": 9,
   "metadata": {},
   "outputs": [
    {
     "data": {
      "text/plain": [
       "4"
      ]
     },
     "execution_count": 9,
     "metadata": {},
     "output_type": "execute_result"
    }
   ],
   "source": [
    "len(woerterbuch)"
   ]
  },
  {
   "cell_type": "markdown",
   "metadata": {},
   "source": [
    "Prüfen, ob ein Schlüssel enthalten ist:"
   ]
  },
  {
   "cell_type": "code",
   "execution_count": 10,
   "metadata": {},
   "outputs": [
    {
     "data": {
      "text/plain": [
       "True"
      ]
     },
     "execution_count": 10,
     "metadata": {},
     "output_type": "execute_result"
    }
   ],
   "source": [
    "'Ente' in woerterbuch"
   ]
  },
  {
   "cell_type": "markdown",
   "metadata": {
    "slideshow": {
     "slide_type": "subslide"
    }
   },
   "source": [
    "Über die Elemente iterieren:"
   ]
  },
  {
   "cell_type": "code",
   "execution_count": 11,
   "metadata": {},
   "outputs": [
    {
     "name": "stdout",
     "output_type": "stream",
     "text": [
      "Ente duck\n",
      "Käse cheese\n",
      "Holz wood\n",
      "Tee tea\n"
     ]
    }
   ],
   "source": [
    "for key in woerterbuch:\n",
    "    print(key, woerterbuch[key])"
   ]
  },
  {
   "cell_type": "markdown",
   "metadata": {
    "slideshow": {
     "slide_type": "subslide"
    }
   },
   "source": [
    "Dicts und Listen unterscheiden sich in wichtigen Punkten:\n",
    "* Im Dict sind immer Datenpaare abgelegt. Dadurch kann man z. B. kodieren, welche Art Information vorliegt:"
   ]
  },
  {
   "cell_type": "code",
   "execution_count": 12,
   "metadata": {},
   "outputs": [],
   "source": [
    "wort = {'token' : 'Enten', 'lemma' : 'Ente', 'pos' : 'NN'}"
   ]
  },
  {
   "cell_type": "markdown",
   "metadata": {
    "slideshow": {
     "slide_type": "subslide"
    }
   },
   "source": [
    "Dicts und Listen unterscheiden sich in wichtigen Punkten:\n",
    "\n",
    "* Im Dict sind immer Datenpaare abgelegt.\n",
    "* Dicts sind nicht sortiert, d.h. die Reihenfolge ihrer Elemente ist nicht stabil. Man kann deshalb keine Elemente über einen Index anwählen."
   ]
  },
  {
   "cell_type": "markdown",
   "metadata": {
    "slideshow": {
     "slide_type": "subslide"
    }
   },
   "source": [
    "### Counter-Objekte\n",
    "Für bequeme Frequenzzählungen stehen uns die Counter-Objekte aus dem Modul `collections` zur Verfügung:"
   ]
  },
  {
   "cell_type": "code",
   "execution_count": 13,
   "metadata": {},
   "outputs": [
    {
     "name": "stdout",
     "output_type": "stream",
     "text": [
      "Counter({'Ente': 5, 'Gans': 2, 'Käse': 2, 'Dinosaurier': 1})\n"
     ]
    }
   ],
   "source": [
    "from collections import Counter\n",
    "\n",
    "liste = ['Ente', 'Dinosaurier', 'Ente', 'Ente', 'Gans', 'Ente', 'Ente', 'Gans', 'Käse', 'Käse']\n",
    "\n",
    "frequenzen = Counter(liste)\n",
    "\n",
    "print(frequenzen)"
   ]
  },
  {
   "cell_type": "markdown",
   "metadata": {
    "slideshow": {
     "slide_type": "slide"
    }
   },
   "source": [
    "## Module"
   ]
  },
  {
   "cell_type": "markdown",
   "metadata": {
    "slideshow": {
     "slide_type": "subslide"
    }
   },
   "source": [
    "* Module sind Sammlungen von Funktionen, die andere Autor/inn/en für Python geschrieben und veröffentlicht haben.\n",
    "* Wir haben im ersten Teil schon das re-Modul für reguläre Ausdrücke kennengelernt.\n",
    "* Module müssen am Anfang der Datei einmal importiert werden:"
   ]
  },
  {
   "cell_type": "code",
   "execution_count": 14,
   "metadata": {},
   "outputs": [],
   "source": [
    "import re"
   ]
  },
  {
   "cell_type": "markdown",
   "metadata": {},
   "source": [
    "* Später können die Funktionen im Modul über den Namen des Moduls aufgerufen werden:\n",
    "\n",
    "`re.sub()`"
   ]
  },
  {
   "cell_type": "markdown",
   "metadata": {
    "slideshow": {
     "slide_type": "subslide"
    }
   },
   "source": [
    "## Das `os`-Modul\n",
    "os = operating system, Betriebssystem\n",
    "\n",
    "Dokumentation: [https://docs.python.org/3/library/os.html](https://docs.python.org/3/library/os.html)\n",
    "\n",
    "`os.getcwd()`\n",
    "\n",
    "Gibt das aktuelle Working Directory zurück, also den Ort in der Ordnerstruktur, an dem wir uns gerade befinden. Das ist z. B. relevant, wenn wir Dateien öffnen wollen."
   ]
  },
  {
   "cell_type": "markdown",
   "metadata": {
    "slideshow": {
     "slide_type": "subslide"
    }
   },
   "source": [
    "`os.listdir(<path='.'>)`\n",
    "\n",
    "Listet alle Dateien auf, die an einem gegebenen Ort zu finden sind. Sehr praktisch, um danach über alle diese Dateien zu loopen!"
   ]
  },
  {
   "cell_type": "code",
   "execution_count": 15,
   "metadata": {},
   "outputs": [
    {
     "name": "stdout",
     "output_type": "stream",
     "text": [
      "['my_file.txt', 'cities.txt', 'cities_out.xlsx', 'cathaskueche_04.txt', 'cities_out.txt']\n"
     ]
    }
   ],
   "source": [
    "import os\n",
    "files = os.listdir('Daten/')\n",
    "print(files)"
   ]
  },
  {
   "cell_type": "markdown",
   "metadata": {
    "slideshow": {
     "slide_type": "subslide"
    }
   },
   "source": [
    "## Das `NumPy`-Modul\n",
    "\n",
    "* Sehr umfassendes Paket für alles Mathematische.\n",
    "* Dokumentation: [https://docs.scipy.org/doc/](https://docs.scipy.org/doc/)\n",
    "* Wird üblicherweise so importiert:"
   ]
  },
  {
   "cell_type": "code",
   "execution_count": 16,
   "metadata": {},
   "outputs": [],
   "source": [
    "import numpy as np"
   ]
  },
  {
   "cell_type": "markdown",
   "metadata": {
    "slideshow": {
     "slide_type": "subslide"
    }
   },
   "source": [
    "Einfache Statistiken:"
   ]
  },
  {
   "cell_type": "code",
   "execution_count": 17,
   "metadata": {},
   "outputs": [
    {
     "data": {
      "text/plain": [
       "26.833333333333332"
      ]
     },
     "execution_count": 17,
     "metadata": {},
     "output_type": "execute_result"
    }
   ],
   "source": [
    "zahlen = [2, 54, 18, 34, 44, 9]\n",
    "\n",
    "np.mean(zahlen)    # Mittelwert"
   ]
  },
  {
   "cell_type": "code",
   "execution_count": 18,
   "metadata": {},
   "outputs": [
    {
     "data": {
      "text/plain": [
       "26.0"
      ]
     },
     "execution_count": 18,
     "metadata": {},
     "output_type": "execute_result"
    }
   ],
   "source": [
    "np.median(zahlen)    # Median"
   ]
  },
  {
   "cell_type": "code",
   "execution_count": 19,
   "metadata": {},
   "outputs": [
    {
     "data": {
      "text/plain": [
       "18.69417615788998"
      ]
     },
     "execution_count": 19,
     "metadata": {},
     "output_type": "execute_result"
    }
   ],
   "source": [
    "np.std(zahlen)    # Standardabweichung"
   ]
  },
  {
   "cell_type": "markdown",
   "metadata": {
    "slideshow": {
     "slide_type": "subslide"
    }
   },
   "source": [
    "### Randomisierung\n",
    "\n",
    "Liste zufällig durchmischen:"
   ]
  },
  {
   "cell_type": "code",
   "execution_count": 20,
   "metadata": {},
   "outputs": [
    {
     "name": "stdout",
     "output_type": "stream",
     "text": [
      "['Käse', 'Brot', 'Enten', 'Apfel']\n"
     ]
    }
   ],
   "source": [
    "liste = ['Apfel', 'Käse', 'Brot', 'Enten']\n",
    "np.random.shuffle(liste)\n",
    "print(liste)"
   ]
  },
  {
   "cell_type": "markdown",
   "metadata": {
    "slideshow": {
     "slide_type": "subslide"
    }
   },
   "source": [
    "Aus den Zahlen bis 2000 zufällig 25 ziehen:"
   ]
  },
  {
   "cell_type": "code",
   "execution_count": 21,
   "metadata": {},
   "outputs": [
    {
     "data": {
      "text/plain": [
       "array([ 339, 1393, 1637,   79, 1998, 1618, 1798,  117,  205,  514, 1392,\n",
       "        807, 1572, 1977, 1613, 1241, 1342,  735, 1819,  171, 1315,  544,\n",
       "       1106,   74, 1590])"
      ]
     },
     "execution_count": 21,
     "metadata": {},
     "output_type": "execute_result"
    }
   ],
   "source": [
    "np.random.choice(2000, 25, replace=False)"
   ]
  },
  {
   "cell_type": "markdown",
   "metadata": {},
   "source": [
    "[https://docs.scipy.org/doc/numpy/reference/routines.random.html](https://docs.scipy.org/doc/numpy/reference/routines.random.html)"
   ]
  },
  {
   "cell_type": "markdown",
   "metadata": {
    "slideshow": {
     "slide_type": "slide"
    }
   },
   "source": [
    "## Im nächsten Teil:\n",
    "* Fehlertypen\n",
    "* Eigene Funktionen schreiben\n",
    "* Mit natürlicher Sprache arbeiten (NLTK/spaCy)\n",
    "* Mit tabellarischen Daten arbeiten (pandas)"
   ]
  }
 ],
 "metadata": {
  "celltoolbar": "Slideshow",
  "kernelspec": {
   "display_name": "Python 3",
   "language": "python",
   "name": "python3"
  },
  "language_info": {
   "codemirror_mode": {
    "name": "ipython",
    "version": 3
   },
   "file_extension": ".py",
   "mimetype": "text/x-python",
   "name": "python",
   "nbconvert_exporter": "python",
   "pygments_lexer": "ipython3",
   "version": "3.6.8"
  }
 },
 "nbformat": 4,
 "nbformat_minor": 2
}
