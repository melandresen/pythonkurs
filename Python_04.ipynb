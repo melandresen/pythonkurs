{
 "cells": [
  {
   "cell_type": "markdown",
   "metadata": {
    "slideshow": {
     "slide_type": "slide"
    }
   },
   "source": [
    "# Python für Geisteswissenschaftler/innen\n",
    "(Teil 4)"
   ]
  },
  {
   "cell_type": "markdown",
   "metadata": {},
   "source": [
    "Melanie Andresen\n",
    "\n",
    "[melanie.andresen@uni-hamburg.de](mailto:melanie.andresen@uni-hamburg.de)"
   ]
  },
  {
   "cell_type": "markdown",
   "metadata": {
    "slideshow": {
     "slide_type": "slide"
    }
   },
   "source": [
    "## Agenda\n",
    "### Im letzten Teil:\n",
    "* Debugging: Wo ist der Fehler?\n",
    "* Dictionaries\n",
    "* Module einbinden und nutzen\n",
    "    * os-Modul\n",
    "    * NumPy"
   ]
  },
  {
   "cell_type": "markdown",
   "metadata": {
    "slideshow": {
     "slide_type": "subslide"
    }
   },
   "source": [
    "### In diesem Teil:\n",
    "* Fehlertypen\n",
    "* Eigene Funktionen schreiben\n",
    "* Mit natürlicher Sprache arbeiten (NLTK/spaCy)\n",
    "* Mit tabellarischen Daten arbeiten (pandas)"
   ]
  },
  {
   "cell_type": "markdown",
   "metadata": {
    "slideshow": {
     "slide_type": "slide"
    }
   },
   "source": [
    "## Diverses"
   ]
  },
  {
   "cell_type": "markdown",
   "metadata": {
    "slideshow": {
     "slide_type": "subslide"
    }
   },
   "source": [
    "### String-Formatierung"
   ]
  },
  {
   "cell_type": "code",
   "execution_count": 1,
   "metadata": {},
   "outputs": [
    {
     "name": "stdout",
     "output_type": "stream",
     "text": [
      "Die Antwort lautet 42!\n"
     ]
    }
   ],
   "source": [
    "zahl = 42\n",
    "\n",
    "print('Die Antwort lautet {}!'.format(zahl))"
   ]
  },
  {
   "cell_type": "markdown",
   "metadata": {},
   "source": [
    "&rarr; Keine Konvertierung von Zahlen notwendig.\n",
    "\n",
    "Auch mit mehreren Variablen:"
   ]
  },
  {
   "cell_type": "code",
   "execution_count": 2,
   "metadata": {},
   "outputs": [
    {
     "name": "stdout",
     "output_type": "stream",
     "text": [
      "Die Antwort lautet 42 oder 73!\n"
     ]
    }
   ],
   "source": [
    "zahl = 42\n",
    "zahl_2 = 73\n",
    "\n",
    "print('Die Antwort lautet {} oder {}!'.format(zahl, zahl_2))"
   ]
  },
  {
   "cell_type": "markdown",
   "metadata": {
    "slideshow": {
     "slide_type": "subslide"
    }
   },
   "source": [
    "### List Comprehensions\n",
    "Ermöglicht z. B. Filtern von Listen sehr kompakt:"
   ]
  },
  {
   "cell_type": "code",
   "execution_count": 3,
   "metadata": {},
   "outputs": [
    {
     "name": "stdout",
     "output_type": "stream",
     "text": [
      "['Apfel', 'Ameise', 'Angel']\n"
     ]
    }
   ],
   "source": [
    "import re\n",
    "\n",
    "liste = ['Apfel', 'Ameise', 'Banane', 'Angel']\n",
    "liste2 = [item for item in liste if re.match('A', item)]\n",
    "\n",
    "print(liste2)"
   ]
  },
  {
   "cell_type": "markdown",
   "metadata": {},
   "source": [
    "statt"
   ]
  },
  {
   "cell_type": "code",
   "execution_count": 4,
   "metadata": {},
   "outputs": [
    {
     "name": "stdout",
     "output_type": "stream",
     "text": [
      "['Apfel', 'Ameise', 'Angel']\n"
     ]
    }
   ],
   "source": [
    "liste2 = []\n",
    "\n",
    "for item in liste:\n",
    "    if re.match('A', item):\n",
    "        liste2.append(item)\n",
    "        \n",
    "print(liste2)"
   ]
  },
  {
   "cell_type": "markdown",
   "metadata": {
    "slideshow": {
     "slide_type": "slide"
    }
   },
   "source": [
    "## Fehlertypen"
   ]
  },
  {
   "cell_type": "markdown",
   "metadata": {
    "slideshow": {
     "slide_type": "subslide"
    }
   },
   "source": [
    "### Syntaxfehler\n",
    "Die Syntax des Codes wird vor der eigentlichen Ausführung geprüft. Auch wenn der Fehler erst am Ende des Codes auftritt, wird auch der Teil davor nicht ausgeführt."
   ]
  },
  {
   "cell_type": "code",
   "execution_count": 5,
   "metadata": {},
   "outputs": [
    {
     "ename": "SyntaxError",
     "evalue": "invalid syntax (<ipython-input-5-7fe781f9e4c2>, line 1)",
     "output_type": "error",
     "traceback": [
      "\u001b[0;36m  File \u001b[0;32m\"<ipython-input-5-7fe781f9e4c2>\"\u001b[0;36m, line \u001b[0;32m1\u001b[0m\n\u001b[0;31m    if 'miau' in 'Krimiautorin'\u001b[0m\n\u001b[0m                               ^\u001b[0m\n\u001b[0;31mSyntaxError\u001b[0m\u001b[0;31m:\u001b[0m invalid syntax\n"
     ]
    }
   ],
   "source": [
    "if 'miau' in 'Krimiautorin'\n",
    "    print('Miau!')\n"
   ]
  },
  {
   "cell_type": "markdown",
   "metadata": {
    "slideshow": {
     "slide_type": "subslide"
    }
   },
   "source": [
    "### Exceptions\n",
    "Der Code ist syntaktisch korrekt, aber bei der Ausführung entstehen Fehler. Zum Beispiel hat eine Variable nicht den erwarteten Typ. Der Code bis zur Exception wird ausgeführt."
   ]
  },
  {
   "cell_type": "markdown",
   "metadata": {
    "slideshow": {
     "slide_type": "-"
    }
   },
   "source": [
    "* Es gibt viele unterschiedliche Exceptions und es lohnt sich, die häufgsten zu kennen.\n",
    "* Überblick zu allen Built-in-Exceptions von Python: [https://docs.python.org/3/library/exceptions.html#bltin-exceptions](https://docs.python.org/3/library/exceptions.html#bltin-exceptions)"
   ]
  },
  {
   "cell_type": "markdown",
   "metadata": {
    "slideshow": {
     "slide_type": "subslide"
    }
   },
   "source": [
    "### NameError\n",
    "\n",
    "Der Code versucht eine Variable aufzurufen, die nicht definiert ist."
   ]
  },
  {
   "cell_type": "code",
   "execution_count": 6,
   "metadata": {},
   "outputs": [
    {
     "ename": "NameError",
     "evalue": "name 'ente' is not defined",
     "output_type": "error",
     "traceback": [
      "\u001b[0;31m---------------------------------------------------------------------------\u001b[0m",
      "\u001b[0;31mNameError\u001b[0m                                 Traceback (most recent call last)",
      "\u001b[0;32m<ipython-input-6-efd18b0320dc>\u001b[0m in \u001b[0;36m<module>\u001b[0;34m\u001b[0m\n\u001b[0;32m----> 1\u001b[0;31m \u001b[0mprint\u001b[0m\u001b[0;34m(\u001b[0m\u001b[0mente\u001b[0m\u001b[0;34m)\u001b[0m\u001b[0;34m\u001b[0m\u001b[0;34m\u001b[0m\u001b[0m\n\u001b[0m",
      "\u001b[0;31mNameError\u001b[0m: name 'ente' is not defined"
     ]
    }
   ],
   "source": [
    "print(ente)"
   ]
  },
  {
   "cell_type": "markdown",
   "metadata": {
    "slideshow": {
     "slide_type": "subslide"
    }
   },
   "source": [
    "### IndexError\n",
    "Es wird versucht, über einen Index auf Elemente einer Sequenz (z. B. einer Liste oder eines Strings) zuzugreifen, es gibt diesen Index aber nicht, weil die Sequenz zu kurz ist."
   ]
  },
  {
   "cell_type": "code",
   "execution_count": 7,
   "metadata": {},
   "outputs": [
    {
     "ename": "IndexError",
     "evalue": "list index out of range",
     "output_type": "error",
     "traceback": [
      "\u001b[0;31m---------------------------------------------------------------------------\u001b[0m",
      "\u001b[0;31mIndexError\u001b[0m                                Traceback (most recent call last)",
      "\u001b[0;32m<ipython-input-7-74bc6b4d258a>\u001b[0m in \u001b[0;36m<module>\u001b[0;34m\u001b[0m\n\u001b[1;32m      1\u001b[0m \u001b[0mlist\u001b[0m \u001b[0;34m=\u001b[0m \u001b[0;34m[\u001b[0m\u001b[0;34m'Käse'\u001b[0m\u001b[0;34m,\u001b[0m \u001b[0;34m'Orangen'\u001b[0m\u001b[0;34m,\u001b[0m \u001b[0;34m'Waschmittel'\u001b[0m\u001b[0;34m]\u001b[0m\u001b[0;34m\u001b[0m\u001b[0;34m\u001b[0m\u001b[0m\n\u001b[0;32m----> 2\u001b[0;31m \u001b[0mlist\u001b[0m\u001b[0;34m[\u001b[0m\u001b[0;36m3\u001b[0m\u001b[0;34m]\u001b[0m\u001b[0;34m\u001b[0m\u001b[0;34m\u001b[0m\u001b[0m\n\u001b[0m",
      "\u001b[0;31mIndexError\u001b[0m: list index out of range"
     ]
    }
   ],
   "source": [
    "list = ['Käse', 'Orangen', 'Waschmittel']\n",
    "list[3]"
   ]
  },
  {
   "cell_type": "markdown",
   "metadata": {
    "slideshow": {
     "slide_type": "subslide"
    }
   },
   "source": [
    "### KeyError\n",
    "Das Skript versucht über einen Key auf ein Dictionary zuzugreifen, es gibt diesen Key im Dictionary aber nicht."
   ]
  },
  {
   "cell_type": "code",
   "execution_count": 8,
   "metadata": {},
   "outputs": [
    {
     "ename": "KeyError",
     "evalue": "'Huhn'",
     "output_type": "error",
     "traceback": [
      "\u001b[0;31m---------------------------------------------------------------------------\u001b[0m",
      "\u001b[0;31mKeyError\u001b[0m                                  Traceback (most recent call last)",
      "\u001b[0;32m<ipython-input-8-391dd3e1c232>\u001b[0m in \u001b[0;36m<module>\u001b[0;34m\u001b[0m\n\u001b[1;32m      1\u001b[0m \u001b[0mdict\u001b[0m \u001b[0;34m=\u001b[0m \u001b[0;34m{\u001b[0m\u001b[0;34m'Ente'\u001b[0m\u001b[0;34m:\u001b[0m \u001b[0;34m'duck'\u001b[0m\u001b[0;34m,\u001b[0m \u001b[0;34m'Maus'\u001b[0m\u001b[0;34m:\u001b[0m \u001b[0;34m'mouse'\u001b[0m\u001b[0;34m}\u001b[0m\u001b[0;34m\u001b[0m\u001b[0;34m\u001b[0m\u001b[0m\n\u001b[0;32m----> 2\u001b[0;31m \u001b[0mdict\u001b[0m\u001b[0;34m[\u001b[0m\u001b[0;34m'Huhn'\u001b[0m\u001b[0;34m]\u001b[0m\u001b[0;34m\u001b[0m\u001b[0;34m\u001b[0m\u001b[0m\n\u001b[0m",
      "\u001b[0;31mKeyError\u001b[0m: 'Huhn'"
     ]
    }
   ],
   "source": [
    "dict = {'Ente': 'duck', 'Maus': 'mouse'}\n",
    "dict['Huhn']"
   ]
  },
  {
   "cell_type": "markdown",
   "metadata": {
    "slideshow": {
     "slide_type": "subslide"
    }
   },
   "source": [
    "### TypeError\n",
    "Eine Operation kann nicht durchgeführt werden, weil ein Wert den falschen Datentyp hat."
   ]
  },
  {
   "cell_type": "code",
   "execution_count": 9,
   "metadata": {},
   "outputs": [
    {
     "ename": "TypeError",
     "evalue": "'int' object is not iterable",
     "output_type": "error",
     "traceback": [
      "\u001b[0;31m---------------------------------------------------------------------------\u001b[0m",
      "\u001b[0;31mTypeError\u001b[0m                                 Traceback (most recent call last)",
      "\u001b[0;32m<ipython-input-9-10c089cc4cc4>\u001b[0m in \u001b[0;36m<module>\u001b[0;34m\u001b[0m\n\u001b[1;32m      1\u001b[0m \u001b[0ma\u001b[0m \u001b[0;34m=\u001b[0m \u001b[0;36m6\u001b[0m\u001b[0;34m\u001b[0m\u001b[0;34m\u001b[0m\u001b[0m\n\u001b[0;32m----> 2\u001b[0;31m \u001b[0;32mfor\u001b[0m \u001b[0mitem\u001b[0m \u001b[0;32min\u001b[0m \u001b[0ma\u001b[0m\u001b[0;34m:\u001b[0m\u001b[0;34m\u001b[0m\u001b[0;34m\u001b[0m\u001b[0m\n\u001b[0m\u001b[1;32m      3\u001b[0m     \u001b[0mprint\u001b[0m\u001b[0;34m(\u001b[0m\u001b[0mitem\u001b[0m\u001b[0;34m)\u001b[0m\u001b[0;34m\u001b[0m\u001b[0;34m\u001b[0m\u001b[0m\n",
      "\u001b[0;31mTypeError\u001b[0m: 'int' object is not iterable"
     ]
    }
   ],
   "source": [
    "a = 6\n",
    "for item in a:\n",
    "    print(item)"
   ]
  },
  {
   "cell_type": "code",
   "execution_count": 10,
   "metadata": {},
   "outputs": [
    {
     "ename": "TypeError",
     "evalue": "'int' object is not subscriptable",
     "output_type": "error",
     "traceback": [
      "\u001b[0;31m---------------------------------------------------------------------------\u001b[0m",
      "\u001b[0;31mTypeError\u001b[0m                                 Traceback (most recent call last)",
      "\u001b[0;32m<ipython-input-10-144b2693555c>\u001b[0m in \u001b[0;36m<module>\u001b[0;34m\u001b[0m\n\u001b[1;32m      1\u001b[0m \u001b[0ma\u001b[0m \u001b[0;34m=\u001b[0m \u001b[0;36m6\u001b[0m\u001b[0;34m\u001b[0m\u001b[0;34m\u001b[0m\u001b[0m\n\u001b[0;32m----> 2\u001b[0;31m \u001b[0ma\u001b[0m\u001b[0;34m[\u001b[0m\u001b[0;36m0\u001b[0m\u001b[0;34m]\u001b[0m\u001b[0;34m\u001b[0m\u001b[0;34m\u001b[0m\u001b[0m\n\u001b[0m",
      "\u001b[0;31mTypeError\u001b[0m: 'int' object is not subscriptable"
     ]
    }
   ],
   "source": [
    "a = 6\n",
    "a[0]"
   ]
  },
  {
   "cell_type": "markdown",
   "metadata": {
    "slideshow": {
     "slide_type": "subslide"
    }
   },
   "source": [
    "### ZeroDivisionError\n",
    "Der Code verlangt eine Division durch Null. Der Grund ist oft, dass eine Variable durch einen Fehler im Code nicht definiert wurde, z. B. eine Liste leer geblieben ist."
   ]
  },
  {
   "cell_type": "code",
   "execution_count": 11,
   "metadata": {},
   "outputs": [
    {
     "ename": "ZeroDivisionError",
     "evalue": "division by zero",
     "output_type": "error",
     "traceback": [
      "\u001b[0;31m---------------------------------------------------------------------------\u001b[0m",
      "\u001b[0;31mZeroDivisionError\u001b[0m                         Traceback (most recent call last)",
      "\u001b[0;32m<ipython-input-11-d81578d6f5df>\u001b[0m in \u001b[0;36m<module>\u001b[0;34m\u001b[0m\n\u001b[1;32m      1\u001b[0m \u001b[0mlist\u001b[0m \u001b[0;34m=\u001b[0m \u001b[0;34m[\u001b[0m\u001b[0;34m]\u001b[0m\u001b[0;34m\u001b[0m\u001b[0;34m\u001b[0m\u001b[0m\n\u001b[0;32m----> 2\u001b[0;31m \u001b[0mresult\u001b[0m \u001b[0;34m=\u001b[0m \u001b[0msum\u001b[0m\u001b[0;34m(\u001b[0m\u001b[0mlist\u001b[0m\u001b[0;34m)\u001b[0m \u001b[0;34m/\u001b[0m \u001b[0mlen\u001b[0m\u001b[0;34m(\u001b[0m\u001b[0mlist\u001b[0m\u001b[0;34m)\u001b[0m\u001b[0;34m\u001b[0m\u001b[0;34m\u001b[0m\u001b[0m\n\u001b[0m",
      "\u001b[0;31mZeroDivisionError\u001b[0m: division by zero"
     ]
    }
   ],
   "source": [
    "list = []\n",
    "result = sum(list) / len(list)"
   ]
  },
  {
   "cell_type": "markdown",
   "metadata": {
    "slideshow": {
     "slide_type": "subslide"
    }
   },
   "source": [
    "### AttributeError\n",
    "Im Code wird ein Attribut zu einem Objekt aufgerufen, das dieses Attribut aber gar nicht hat."
   ]
  },
  {
   "cell_type": "code",
   "execution_count": 12,
   "metadata": {},
   "outputs": [
    {
     "ename": "AttributeError",
     "evalue": "'str' object has no attribute 'sort'",
     "output_type": "error",
     "traceback": [
      "\u001b[0;31m---------------------------------------------------------------------------\u001b[0m",
      "\u001b[0;31mAttributeError\u001b[0m                            Traceback (most recent call last)",
      "\u001b[0;32m<ipython-input-12-ce9657d5d87a>\u001b[0m in \u001b[0;36m<module>\u001b[0;34m\u001b[0m\n\u001b[1;32m      1\u001b[0m \u001b[0mname\u001b[0m \u001b[0;34m=\u001b[0m \u001b[0;34m'Andresen'\u001b[0m\u001b[0;34m\u001b[0m\u001b[0;34m\u001b[0m\u001b[0m\n\u001b[0;32m----> 2\u001b[0;31m \u001b[0mname\u001b[0m\u001b[0;34m.\u001b[0m\u001b[0msort\u001b[0m\u001b[0;34m(\u001b[0m\u001b[0;34m)\u001b[0m\u001b[0;34m\u001b[0m\u001b[0;34m\u001b[0m\u001b[0m\n\u001b[0m",
      "\u001b[0;31mAttributeError\u001b[0m: 'str' object has no attribute 'sort'"
     ]
    }
   ],
   "source": [
    "name = 'Andresen'\n",
    "name.sort()"
   ]
  },
  {
   "cell_type": "markdown",
   "metadata": {
    "slideshow": {
     "slide_type": "subslide"
    }
   },
   "source": [
    "### KeyboardInterrupt\n",
    "Wird ausgegeben, wenn die Nutzerin die Ausführung des Skriptes durch die Tastatur stoppt (Control + C)."
   ]
  },
  {
   "cell_type": "markdown",
   "metadata": {
    "slideshow": {
     "slide_type": "slide"
    }
   },
   "source": [
    "## Funktionen schreiben"
   ]
  },
  {
   "cell_type": "markdown",
   "metadata": {
    "slideshow": {
     "slide_type": "subslide"
    }
   },
   "source": [
    "## Funktionen\n",
    "Eine Funktion ist ein Stück Code, das wir über einen Namen aufrufen können.\n",
    "\n",
    "Typischerweise nimmt eine Funktion eine oder mehrere Variablen als Argumente und gibt einen Wert zurück. z. B.:\n",
    "\n",
    "`re.sub(<pattern>, <replacement>, <string>)`\n",
    "\n",
    "(Gibt den String mit den Ersetzungen zurück)"
   ]
  },
  {
   "cell_type": "markdown",
   "metadata": {
    "slideshow": {
     "slide_type": "subslide"
    }
   },
   "source": [
    "Wir können selbst neue Funktionen definieren.\n",
    "\n",
    "Vorteile:\n",
    "* Wir können den Code mehrfach im Skript aufrufen, ohne alles nochmal schreiben zu müssen.\n",
    "* Der Code wird modularer und dadurch übersichtlicher."
   ]
  },
  {
   "cell_type": "markdown",
   "metadata": {
    "slideshow": {
     "slide_type": "subslide"
    }
   },
   "source": [
    "Funktionen haben in Python folgende Form:"
   ]
  },
  {
   "cell_type": "code",
   "execution_count": 13,
   "metadata": {},
   "outputs": [
    {
     "name": "stdout",
     "output_type": "stream",
     "text": [
      "Käsebrot und ich\n"
     ]
    }
   ],
   "source": [
    "def coordinate(wort1, wort2):\n",
    "    coordination = wort1 + ' und ' + wort2\n",
    "    return coordination\n",
    "\n",
    "print(coordinate('Käsebrot', 'ich'))"
   ]
  },
  {
   "cell_type": "markdown",
   "metadata": {
    "slideshow": {
     "slide_type": "subslide"
    }
   },
   "source": [
    "## Rekursion\n",
    "\n",
    "Eine rekursive Funktion ruft sich selbst wieder auf.\n",
    "\n",
    "Linguistik:\n",
    "\n",
    "NP &rarr; ART + NN + NP\n",
    "\n",
    "die Mutter der Präsidentin der Gesellschaft der ..."
   ]
  },
  {
   "cell_type": "markdown",
   "metadata": {
    "slideshow": {
     "slide_type": "subslide"
    }
   },
   "source": [
    "Eine rekursive Funktion ruft sich selbst wieder auf."
   ]
  },
  {
   "cell_type": "code",
   "execution_count": 14,
   "metadata": {},
   "outputs": [
    {
     "name": "stdout",
     "output_type": "stream",
     "text": [
      "EnteEnteEnteEnteEnteEnteEnteEnteEnteEnteEnteEnteEnteEnteEnteEnte\n"
     ]
    }
   ],
   "source": [
    "def verdoppeln(word):\n",
    "    word = word + word\n",
    "    if len(word) < 60:\n",
    "        word = verdoppeln(word)\n",
    "    return word\n",
    "\n",
    "doppelwort = verdoppeln('Ente')\n",
    "\n",
    "print(doppelwort)"
   ]
  },
  {
   "cell_type": "markdown",
   "metadata": {
    "slideshow": {
     "slide_type": "slide"
    }
   },
   "source": [
    "## Mit natürlicher Sprache arbeiten (NLTK/spaCy)"
   ]
  },
  {
   "cell_type": "markdown",
   "metadata": {
    "slideshow": {
     "slide_type": "subslide"
    }
   },
   "source": [
    "Zur Arbeit mit natürlicher Sprache stehen uns unterschiedliche Module zur Verfügung. Hier im Kurs arbeiten mit mit dem NLTK und/oder spaCy, weil erfahrungsgemäß beide auf manchen Rechnern Probleme bereiten.\n",
    "## NLTK\n",
    "* Natural Language Toolkit\n",
    "* Dokumentation: [http://www.nltk.org/](http://www.nltk.org/)\n",
    "* Buch dazu unter CC-Lizenz: [http://www.nltk.org/book/](http://www.nltk.org/book/)"
   ]
  },
  {
   "cell_type": "markdown",
   "metadata": {},
   "source": [
    "## spaCy\n",
    "* Dokumentation: https://spacy.io/"
   ]
  },
  {
   "cell_type": "markdown",
   "metadata": {
    "slideshow": {
     "slide_type": "subslide"
    }
   },
   "source": [
    "## Tokenisierung\n",
    "\n",
    "Als Tokenisierung bezeichnet man die Zerlegung von Zeichenketten in Wörter und/oder Sätze.\n"
   ]
  },
  {
   "cell_type": "markdown",
   "metadata": {
    "slideshow": {
     "slide_type": "fragment"
    }
   },
   "source": [
    "Herausforderungen der **Worttokenisierung**:\n",
    "1. Am Mittwoch fliege ich nach New York.\n",
    "2. I just bought a robotic vacuum cleaner.\n",
    "3. Ich mag meinen Staubsaugerroboter."
   ]
  },
  {
   "cell_type": "markdown",
   "metadata": {
    "slideshow": {
     "slide_type": "subslide"
    }
   },
   "source": [
    "Als Tokenisierung bezeichnet man die Zerlegung von Zeichenketten in Wörter und/oder Sätze.\n",
    "\n",
    "Herausforderungen der **Satztokenisierung**:\n",
    "1. Ich habe gerade Frau Dr. Meier getroffen. \n",
    "2. Ich mag z. B. Enten.\n",
    "3. Wir brauchen mindestens 1.000 Enten!"
   ]
  },
  {
   "cell_type": "markdown",
   "metadata": {
    "slideshow": {
     "slide_type": "subslide"
    }
   },
   "source": [
    "## Tokenisierung mit dem NLTK"
   ]
  },
  {
   "cell_type": "markdown",
   "metadata": {},
   "source": [
    "Segmentierung von Texten in Sätze:"
   ]
  },
  {
   "cell_type": "code",
   "execution_count": 15,
   "metadata": {},
   "outputs": [
    {
     "name": "stdout",
     "output_type": "stream",
     "text": [
      "['Ich habe gerade Frau Dr. Meier getroffen.', 'Am Mittwoch fliege ich nach New York.', 'Ich mag z.B. Enten.']\n"
     ]
    }
   ],
   "source": [
    "import nltk\n",
    "\n",
    "sent_tokenizer = nltk.data.load('tokenizers/punkt/german.pickle')        # Wir laden das deutsche Modell\n",
    "text = 'Ich habe gerade Frau Dr. Meier getroffen. Am Mittwoch fliege ich nach New York. Ich mag z.B. Enten.'\n",
    "sentences = sent_tokenizer.tokenize(text)\n",
    "\n",
    "print(sentences)"
   ]
  },
  {
   "cell_type": "markdown",
   "metadata": {
    "slideshow": {
     "slide_type": "subslide"
    }
   },
   "source": [
    "Segmentierung von Sätzen in Wörter (Tokens):"
   ]
  },
  {
   "cell_type": "code",
   "execution_count": 16,
   "metadata": {
    "slideshow": {
     "slide_type": "-"
    }
   },
   "outputs": [
    {
     "name": "stdout",
     "output_type": "stream",
     "text": [
      "['Ich', 'habe', 'gerade', 'Frau', 'Dr.', 'Meier', 'getroffen', '.']\n"
     ]
    }
   ],
   "source": [
    "import nltk\n",
    "\n",
    "sent = 'Ich habe gerade Frau Dr. Meier getroffen.'\n",
    "tokens = nltk.word_tokenize(sent, language='german')\n",
    "\n",
    "print(tokens)"
   ]
  },
  {
   "cell_type": "markdown",
   "metadata": {
    "slideshow": {
     "slide_type": "subslide"
    }
   },
   "source": [
    "## Tokenisierung mit spaCy"
   ]
  },
  {
   "cell_type": "code",
   "execution_count": 17,
   "metadata": {},
   "outputs": [
    {
     "name": "stdout",
     "output_type": "stream",
     "text": [
      "Ich\n",
      "habe\n",
      "gerade\n",
      "Frau\n",
      "Dr.\n",
      "Meier\n",
      "getroffen\n",
      ".\n",
      "Am\n",
      "Mittwoch\n",
      "fliege\n",
      "ich\n",
      "nach\n",
      "New\n",
      "York\n",
      ".\n",
      "Ich\n",
      "mag\n",
      "z.B.\n",
      "Enten\n",
      ".\n"
     ]
    }
   ],
   "source": [
    "import spacy\n",
    "\n",
    "text = 'Ich habe gerade Frau Dr. Meier getroffen. Am Mittwoch fliege ich nach New York. Ich mag z.B. Enten.'\n",
    "\n",
    "nlp = spacy.load('de_core_news_sm')      # Wir laden das deutsche Modell\n",
    "doc = nlp(text)\n",
    "\n",
    "for word in doc:\n",
    "    print(word)"
   ]
  },
  {
   "cell_type": "code",
   "execution_count": 18,
   "metadata": {
    "slideshow": {
     "slide_type": "subslide"
    }
   },
   "outputs": [
    {
     "name": "stdout",
     "output_type": "stream",
     "text": [
      "Ich habe gerade Frau Dr. Meier getroffen.\n",
      "Am Mittwoch fliege ich nach New York.\n",
      "Ich mag z.B. Enten.\n"
     ]
    }
   ],
   "source": [
    "for sentence in doc.sents: \n",
    "    print(sentence)"
   ]
  },
  {
   "cell_type": "markdown",
   "metadata": {},
   "source": [
    "## Zum Weiterlesen\n",
    "- Buch zum NLTK: [http://www.nltk.org/book/](http://www.nltk.org/book/)\n",
    "- Tutorial für komplexere Anwendungen von spaCy, z. B. Annotation von Wortarten: https://course.spacy.io/ oder https://spacy.io/usage/spacy-101"
   ]
  },
  {
   "cell_type": "markdown",
   "metadata": {
    "slideshow": {
     "slide_type": "slide"
    }
   },
   "source": [
    "## Tabellarische Daten: pandas"
   ]
  },
  {
   "cell_type": "markdown",
   "metadata": {
    "slideshow": {
     "slide_type": "subslide"
    }
   },
   "source": [
    "## pandas\n",
    "* Modul für die Arbeit mit tabellarischen Daten\n",
    "* Import:"
   ]
  },
  {
   "cell_type": "code",
   "execution_count": 19,
   "metadata": {},
   "outputs": [],
   "source": [
    "import pandas as pd"
   ]
  },
  {
   "cell_type": "markdown",
   "metadata": {},
   "source": [
    "* Dokumentation: [http://pandas.pydata.org/pandas-docs/stable/index.html](http://pandas.pydata.org/pandas-docs/stable/index.html)"
   ]
  },
  {
   "cell_type": "markdown",
   "metadata": {
    "slideshow": {
     "slide_type": "subslide"
    }
   },
   "source": [
    "## Datentypen in pandas\n",
    "* Series\n",
    "    * eindimensionale Datenstruktur, Datenreihe, entspricht z. B. den Daten einer Spalte\n",
    "* DataFrame\n",
    "    * zweidimensionale Datenstruktur, Tabelle"
   ]
  },
  {
   "cell_type": "markdown",
   "metadata": {
    "slideshow": {
     "slide_type": "subslide"
    }
   },
   "source": [
    "DataFrame erstellen:"
   ]
  },
  {
   "cell_type": "code",
   "execution_count": 20,
   "metadata": {},
   "outputs": [
    {
     "name": "stdout",
     "output_type": "stream",
     "text": [
      "        name  temperature\n",
      "0    Hamburg           10\n",
      "1    München           21\n",
      "2  Amsterdam           15\n",
      "3     Madrid           33\n",
      "4       Prag           19\n"
     ]
    }
   ],
   "source": [
    "cities = pd.DataFrame({'name': ['Hamburg', 'München', 'Amsterdam', 'Madrid', 'Prag'], 'temperature': [10,21,15,33,19]})\n",
    "\n",
    "print(cities)"
   ]
  },
  {
   "cell_type": "markdown",
   "metadata": {
    "slideshow": {
     "slide_type": "subslide"
    }
   },
   "source": [
    "## Input und Output mit pandas\n",
    "\n",
    "Daten aus Datei einlesen:"
   ]
  },
  {
   "cell_type": "code",
   "execution_count": 21,
   "metadata": {},
   "outputs": [
    {
     "name": "stdout",
     "output_type": "stream",
     "text": [
      "           temperature  population   area\n",
      "name                                     \n",
      "Hamburg           12.8     1830584  755.0\n",
      "München           13.0     1456039  310.4\n",
      "Amsterdam         13.4      862276  219.3\n",
      "Madrid            19.5     3182981  604.3\n",
      "Prag              12.6     1294513  496.0\n"
     ]
    }
   ],
   "source": [
    "cities = pd.read_csv('Daten/cities.txt', sep = '\\t', index_col=0)\n",
    "\n",
    "print(cities)"
   ]
  },
  {
   "cell_type": "markdown",
   "metadata": {},
   "source": [
    "Optionen: [http://pandas.pydata.org/pandas-docs/stable/generated/pandas.read_csv.html](http://pandas.pydata.org/pandas-docs/stable/generated/pandas.read_csv.html)"
   ]
  },
  {
   "cell_type": "markdown",
   "metadata": {
    "slideshow": {
     "slide_type": "subslide"
    }
   },
   "source": [
    "Daten in Datei schreiben:"
   ]
  },
  {
   "cell_type": "code",
   "execution_count": 22,
   "metadata": {},
   "outputs": [],
   "source": [
    "cities.to_csv('Daten/cities_out.txt', sep = '\\t')"
   ]
  },
  {
   "cell_type": "markdown",
   "metadata": {},
   "source": [
    "Optionen: [http://pandas.pydata.org/pandas-docs/stable/generated/pandas.DataFrame.to_csv.html](http://pandas.pydata.org/pandas-docs/stable/generated/pandas.DataFrame.to_csv.html)"
   ]
  },
  {
   "cell_type": "markdown",
   "metadata": {
    "slideshow": {
     "slide_type": "subslide"
    }
   },
   "source": [
    "Auch in und aus Excel (mit Nachinstallation weiterer Module):"
   ]
  },
  {
   "cell_type": "code",
   "execution_count": 23,
   "metadata": {},
   "outputs": [],
   "source": [
    "cities.to_excel('Daten/cities_out.xlsx')"
   ]
  },
  {
   "cell_type": "code",
   "execution_count": 24,
   "metadata": {},
   "outputs": [
    {
     "name": "stdout",
     "output_type": "stream",
     "text": [
      "           temperature  population   area\n",
      "name                                     \n",
      "Hamburg           12.8     1830584  755.0\n",
      "München           13.0     1456039  310.4\n",
      "Amsterdam         13.4      862276  219.3\n",
      "Madrid            19.5     3182981  604.3\n",
      "Prag              12.6     1294513  496.0\n"
     ]
    }
   ],
   "source": [
    "cities = pd.read_excel('Daten/cities_out.xlsx', index_col=0)\n",
    "print(cities)"
   ]
  },
  {
   "cell_type": "markdown",
   "metadata": {
    "slideshow": {
     "slide_type": "subslide"
    }
   },
   "source": [
    "## Einfache deskriptive Statistiken"
   ]
  },
  {
   "cell_type": "code",
   "execution_count": 25,
   "metadata": {},
   "outputs": [
    {
     "data": {
      "text/html": [
       "<div>\n",
       "<style scoped>\n",
       "    .dataframe tbody tr th:only-of-type {\n",
       "        vertical-align: middle;\n",
       "    }\n",
       "\n",
       "    .dataframe tbody tr th {\n",
       "        vertical-align: top;\n",
       "    }\n",
       "\n",
       "    .dataframe thead th {\n",
       "        text-align: right;\n",
       "    }\n",
       "</style>\n",
       "<table border=\"1\" class=\"dataframe\">\n",
       "  <thead>\n",
       "    <tr style=\"text-align: right;\">\n",
       "      <th></th>\n",
       "      <th>temperature</th>\n",
       "      <th>population</th>\n",
       "      <th>area</th>\n",
       "    </tr>\n",
       "  </thead>\n",
       "  <tbody>\n",
       "    <tr>\n",
       "      <th>count</th>\n",
       "      <td>5.000000</td>\n",
       "      <td>5.000000e+00</td>\n",
       "      <td>5.000000</td>\n",
       "    </tr>\n",
       "    <tr>\n",
       "      <th>mean</th>\n",
       "      <td>14.260000</td>\n",
       "      <td>1.725279e+06</td>\n",
       "      <td>477.000000</td>\n",
       "    </tr>\n",
       "    <tr>\n",
       "      <th>std</th>\n",
       "      <td>2.944147</td>\n",
       "      <td>8.858341e+05</td>\n",
       "      <td>216.803563</td>\n",
       "    </tr>\n",
       "    <tr>\n",
       "      <th>min</th>\n",
       "      <td>12.600000</td>\n",
       "      <td>8.622760e+05</td>\n",
       "      <td>219.300000</td>\n",
       "    </tr>\n",
       "    <tr>\n",
       "      <th>25%</th>\n",
       "      <td>12.800000</td>\n",
       "      <td>1.294513e+06</td>\n",
       "      <td>310.400000</td>\n",
       "    </tr>\n",
       "    <tr>\n",
       "      <th>50%</th>\n",
       "      <td>13.000000</td>\n",
       "      <td>1.456039e+06</td>\n",
       "      <td>496.000000</td>\n",
       "    </tr>\n",
       "    <tr>\n",
       "      <th>75%</th>\n",
       "      <td>13.400000</td>\n",
       "      <td>1.830584e+06</td>\n",
       "      <td>604.300000</td>\n",
       "    </tr>\n",
       "    <tr>\n",
       "      <th>max</th>\n",
       "      <td>19.500000</td>\n",
       "      <td>3.182981e+06</td>\n",
       "      <td>755.000000</td>\n",
       "    </tr>\n",
       "  </tbody>\n",
       "</table>\n",
       "</div>"
      ],
      "text/plain": [
       "       temperature    population        area\n",
       "count     5.000000  5.000000e+00    5.000000\n",
       "mean     14.260000  1.725279e+06  477.000000\n",
       "std       2.944147  8.858341e+05  216.803563\n",
       "min      12.600000  8.622760e+05  219.300000\n",
       "25%      12.800000  1.294513e+06  310.400000\n",
       "50%      13.000000  1.456039e+06  496.000000\n",
       "75%      13.400000  1.830584e+06  604.300000\n",
       "max      19.500000  3.182981e+06  755.000000"
      ]
     },
     "execution_count": 25,
     "metadata": {},
     "output_type": "execute_result"
    }
   ],
   "source": [
    "cities.describe()"
   ]
  },
  {
   "cell_type": "markdown",
   "metadata": {
    "slideshow": {
     "slide_type": "subslide"
    }
   },
   "source": [
    "## DataFrames sortieren\n",
    "* Nach Werten einer Spalte"
   ]
  },
  {
   "cell_type": "code",
   "execution_count": 26,
   "metadata": {},
   "outputs": [
    {
     "data": {
      "text/html": [
       "<div>\n",
       "<style scoped>\n",
       "    .dataframe tbody tr th:only-of-type {\n",
       "        vertical-align: middle;\n",
       "    }\n",
       "\n",
       "    .dataframe tbody tr th {\n",
       "        vertical-align: top;\n",
       "    }\n",
       "\n",
       "    .dataframe thead th {\n",
       "        text-align: right;\n",
       "    }\n",
       "</style>\n",
       "<table border=\"1\" class=\"dataframe\">\n",
       "  <thead>\n",
       "    <tr style=\"text-align: right;\">\n",
       "      <th></th>\n",
       "      <th>temperature</th>\n",
       "      <th>population</th>\n",
       "      <th>area</th>\n",
       "    </tr>\n",
       "    <tr>\n",
       "      <th>name</th>\n",
       "      <th></th>\n",
       "      <th></th>\n",
       "      <th></th>\n",
       "    </tr>\n",
       "  </thead>\n",
       "  <tbody>\n",
       "    <tr>\n",
       "      <th>Amsterdam</th>\n",
       "      <td>13.4</td>\n",
       "      <td>862276</td>\n",
       "      <td>219.3</td>\n",
       "    </tr>\n",
       "    <tr>\n",
       "      <th>Prag</th>\n",
       "      <td>12.6</td>\n",
       "      <td>1294513</td>\n",
       "      <td>496.0</td>\n",
       "    </tr>\n",
       "    <tr>\n",
       "      <th>München</th>\n",
       "      <td>13.0</td>\n",
       "      <td>1456039</td>\n",
       "      <td>310.4</td>\n",
       "    </tr>\n",
       "    <tr>\n",
       "      <th>Hamburg</th>\n",
       "      <td>12.8</td>\n",
       "      <td>1830584</td>\n",
       "      <td>755.0</td>\n",
       "    </tr>\n",
       "    <tr>\n",
       "      <th>Madrid</th>\n",
       "      <td>19.5</td>\n",
       "      <td>3182981</td>\n",
       "      <td>604.3</td>\n",
       "    </tr>\n",
       "  </tbody>\n",
       "</table>\n",
       "</div>"
      ],
      "text/plain": [
       "           temperature  population   area\n",
       "name                                     \n",
       "Amsterdam         13.4      862276  219.3\n",
       "Prag              12.6     1294513  496.0\n",
       "München           13.0     1456039  310.4\n",
       "Hamburg           12.8     1830584  755.0\n",
       "Madrid            19.5     3182981  604.3"
      ]
     },
     "execution_count": 26,
     "metadata": {},
     "output_type": "execute_result"
    }
   ],
   "source": [
    "cities.sort_values(by='population')"
   ]
  },
  {
   "cell_type": "markdown",
   "metadata": {
    "slideshow": {
     "slide_type": "subslide"
    }
   },
   "source": [
    "## DataFrames\n",
    "\n",
    "### Spalten auswählen\n",
    "* über den Namen:"
   ]
  },
  {
   "cell_type": "code",
   "execution_count": 27,
   "metadata": {},
   "outputs": [
    {
     "data": {
      "text/plain": [
       "name\n",
       "Hamburg      1830584\n",
       "München      1456039\n",
       "Amsterdam     862276\n",
       "Madrid       3182981\n",
       "Prag         1294513\n",
       "Name: population, dtype: int64"
      ]
     },
     "execution_count": 27,
     "metadata": {},
     "output_type": "execute_result"
    }
   ],
   "source": [
    "cities['population']"
   ]
  },
  {
   "cell_type": "markdown",
   "metadata": {
    "slideshow": {
     "slide_type": "subslide"
    }
   },
   "source": [
    "### Zeilen auswählen\n",
    "* Auswahl über Label mit `loc`:"
   ]
  },
  {
   "cell_type": "code",
   "execution_count": 28,
   "metadata": {},
   "outputs": [
    {
     "data": {
      "text/plain": [
       "temperature         13.0\n",
       "population     1456039.0\n",
       "area               310.4\n",
       "Name: München, dtype: float64"
      ]
     },
     "execution_count": 28,
     "metadata": {},
     "output_type": "execute_result"
    }
   ],
   "source": [
    "cities.loc['München']"
   ]
  },
  {
   "cell_type": "markdown",
   "metadata": {
    "slideshow": {
     "slide_type": "subslide"
    }
   },
   "source": [
    "* anhand von Bedingungen:"
   ]
  },
  {
   "cell_type": "code",
   "execution_count": 29,
   "metadata": {},
   "outputs": [
    {
     "data": {
      "text/html": [
       "<div>\n",
       "<style scoped>\n",
       "    .dataframe tbody tr th:only-of-type {\n",
       "        vertical-align: middle;\n",
       "    }\n",
       "\n",
       "    .dataframe tbody tr th {\n",
       "        vertical-align: top;\n",
       "    }\n",
       "\n",
       "    .dataframe thead th {\n",
       "        text-align: right;\n",
       "    }\n",
       "</style>\n",
       "<table border=\"1\" class=\"dataframe\">\n",
       "  <thead>\n",
       "    <tr style=\"text-align: right;\">\n",
       "      <th></th>\n",
       "      <th>temperature</th>\n",
       "      <th>population</th>\n",
       "      <th>area</th>\n",
       "    </tr>\n",
       "    <tr>\n",
       "      <th>name</th>\n",
       "      <th></th>\n",
       "      <th></th>\n",
       "      <th></th>\n",
       "    </tr>\n",
       "  </thead>\n",
       "  <tbody>\n",
       "    <tr>\n",
       "      <th>Amsterdam</th>\n",
       "      <td>13.4</td>\n",
       "      <td>862276</td>\n",
       "      <td>219.3</td>\n",
       "    </tr>\n",
       "    <tr>\n",
       "      <th>Madrid</th>\n",
       "      <td>19.5</td>\n",
       "      <td>3182981</td>\n",
       "      <td>604.3</td>\n",
       "    </tr>\n",
       "  </tbody>\n",
       "</table>\n",
       "</div>"
      ],
      "text/plain": [
       "           temperature  population   area\n",
       "name                                     \n",
       "Amsterdam         13.4      862276  219.3\n",
       "Madrid            19.5     3182981  604.3"
      ]
     },
     "execution_count": 29,
     "metadata": {},
     "output_type": "execute_result"
    }
   ],
   "source": [
    "cities[(cities.temperature>13)]"
   ]
  },
  {
   "cell_type": "markdown",
   "metadata": {
    "slideshow": {
     "slide_type": "subslide"
    }
   },
   "source": [
    "### Einzelne Zellen auswählen:"
   ]
  },
  {
   "cell_type": "code",
   "execution_count": 30,
   "metadata": {},
   "outputs": [
    {
     "data": {
      "text/plain": [
       "1456039"
      ]
     },
     "execution_count": 30,
     "metadata": {},
     "output_type": "execute_result"
    }
   ],
   "source": [
    "cities.loc['München','population']"
   ]
  },
  {
   "cell_type": "markdown",
   "metadata": {
    "slideshow": {
     "slide_type": "subslide"
    }
   },
   "source": [
    "## Daten ergänzen\n",
    "\n",
    "Spalten (Variablen) ergänzen:"
   ]
  },
  {
   "cell_type": "code",
   "execution_count": 31,
   "metadata": {},
   "outputs": [
    {
     "name": "stdout",
     "output_type": "stream",
     "text": [
      "           temperature  population   area language\n",
      "name                                              \n",
      "Hamburg           12.8     1830584  755.0   German\n",
      "München           13.0     1456039  310.4   German\n",
      "Amsterdam         13.4      862276  219.3    Dutch\n",
      "Madrid            19.5     3182981  604.3  Spanish\n",
      "Prag              12.6     1294513  496.0    Czech\n"
     ]
    }
   ],
   "source": [
    "cities['language'] = ['German', 'German', 'Dutch', 'Spanish', 'Czech']\n",
    "\n",
    "print(cities)"
   ]
  },
  {
   "cell_type": "markdown",
   "metadata": {
    "slideshow": {
     "slide_type": "subslide"
    }
   },
   "source": [
    "Zeilen (Instanzen) ergänzen:"
   ]
  },
  {
   "cell_type": "code",
   "execution_count": 32,
   "metadata": {},
   "outputs": [
    {
     "name": "stdout",
     "output_type": "stream",
     "text": [
      "           temperature  population    area language\n",
      "name                                               \n",
      "Hamburg           12.8     1830584   755.0   German\n",
      "München           13.0     1456039   310.4   German\n",
      "Amsterdam         13.4      862276   219.3    Dutch\n",
      "Madrid            19.5     3182981   604.3  Spanish\n",
      "Prag              12.6     1294513   496.0    Czech\n",
      "Rome              20.5     2873494  1285.3  Italian\n"
     ]
    }
   ],
   "source": [
    "cities.loc['Rome'] = [20.5, 2873494, 1285.3, 'Italian']\n",
    "\n",
    "print(cities)"
   ]
  },
  {
   "cell_type": "markdown",
   "metadata": {
    "slideshow": {
     "slide_type": "subslide"
    }
   },
   "source": [
    "## Gruppenweise Auswertungen"
   ]
  },
  {
   "cell_type": "code",
   "execution_count": 33,
   "metadata": {},
   "outputs": [
    {
     "data": {
      "text/html": [
       "<div>\n",
       "<style scoped>\n",
       "    .dataframe tbody tr th:only-of-type {\n",
       "        vertical-align: middle;\n",
       "    }\n",
       "\n",
       "    .dataframe tbody tr th {\n",
       "        vertical-align: top;\n",
       "    }\n",
       "\n",
       "    .dataframe thead th {\n",
       "        text-align: right;\n",
       "    }\n",
       "</style>\n",
       "<table border=\"1\" class=\"dataframe\">\n",
       "  <thead>\n",
       "    <tr style=\"text-align: right;\">\n",
       "      <th></th>\n",
       "      <th>temperature</th>\n",
       "      <th>population</th>\n",
       "      <th>area</th>\n",
       "    </tr>\n",
       "    <tr>\n",
       "      <th>language</th>\n",
       "      <th></th>\n",
       "      <th></th>\n",
       "      <th></th>\n",
       "    </tr>\n",
       "  </thead>\n",
       "  <tbody>\n",
       "    <tr>\n",
       "      <th>Czech</th>\n",
       "      <td>12.6</td>\n",
       "      <td>1294513</td>\n",
       "      <td>496.0</td>\n",
       "    </tr>\n",
       "    <tr>\n",
       "      <th>Dutch</th>\n",
       "      <td>13.4</td>\n",
       "      <td>862276</td>\n",
       "      <td>219.3</td>\n",
       "    </tr>\n",
       "    <tr>\n",
       "      <th>German</th>\n",
       "      <td>25.8</td>\n",
       "      <td>3286623</td>\n",
       "      <td>1065.4</td>\n",
       "    </tr>\n",
       "    <tr>\n",
       "      <th>Italian</th>\n",
       "      <td>20.5</td>\n",
       "      <td>2873494</td>\n",
       "      <td>1285.3</td>\n",
       "    </tr>\n",
       "    <tr>\n",
       "      <th>Spanish</th>\n",
       "      <td>19.5</td>\n",
       "      <td>3182981</td>\n",
       "      <td>604.3</td>\n",
       "    </tr>\n",
       "  </tbody>\n",
       "</table>\n",
       "</div>"
      ],
      "text/plain": [
       "          temperature  population    area\n",
       "language                                 \n",
       "Czech            12.6     1294513   496.0\n",
       "Dutch            13.4      862276   219.3\n",
       "German           25.8     3286623  1065.4\n",
       "Italian          20.5     2873494  1285.3\n",
       "Spanish          19.5     3182981   604.3"
      ]
     },
     "execution_count": 33,
     "metadata": {},
     "output_type": "execute_result"
    }
   ],
   "source": [
    "cities.groupby('language').sum()"
   ]
  },
  {
   "cell_type": "markdown",
   "metadata": {
    "slideshow": {
     "slide_type": "subslide"
    }
   },
   "source": [
    "## Mit Spalten rechnen"
   ]
  },
  {
   "cell_type": "code",
   "execution_count": 34,
   "metadata": {},
   "outputs": [
    {
     "name": "stdout",
     "output_type": "stream",
     "text": [
      "           temperature  population    area language  people_per_area\n",
      "name                                                                \n",
      "Hamburg           12.8     1830584   755.0   German      2424.614570\n",
      "München           13.0     1456039   310.4   German      4690.847294\n",
      "Amsterdam         13.4      862276   219.3    Dutch      3931.947104\n",
      "Madrid            19.5     3182981   604.3  Spanish      5267.219924\n",
      "Prag              12.6     1294513   496.0    Czech      2609.905242\n",
      "Rome              20.5     2873494  1285.3  Italian      2235.660157\n"
     ]
    }
   ],
   "source": [
    "cities['people_per_area'] = cities['population'] / cities['area']\n",
    "print(cities)"
   ]
  },
  {
   "cell_type": "markdown",
   "metadata": {
    "slideshow": {
     "slide_type": "-"
    }
   },
   "source": [
    "### Zum Weiterlesen\n",
    "\n",
    "Kurzer Überblick über die Funktionen mit Links zur ausführlichen Dokumentation: [http://pandas.pydata.org/pandas-docs/stable/10min.html](http://pandas.pydata.org/pandas-docs/stable/10min.html)\n",
    "\n",
    "Vergleich mit R: [http://pandas.pydata.org/pandas-docs/stable/comparison_with_r.html](http://pandas.pydata.org/pandas-docs/stable/comparison_with_r.html)"
   ]
  },
  {
   "cell_type": "markdown",
   "metadata": {
    "slideshow": {
     "slide_type": "slide"
    }
   },
   "source": [
    "## Zum Weiterlernen\n",
    "- Sehr viele praktische Anwendungsszenarien (nicht nur in Python) für Geisteswissenschaftler/innen: https://programminghistorian.org/\n",
    "- Einen Hamster steuern in Python: http://www.java-hamster-modell.de\n",
    "- einfache Spiele programmieren mit Pygame Zero: https://pygame-zero.readthedocs.io"
   ]
  },
  {
   "cell_type": "markdown",
   "metadata": {
    "slideshow": {
     "slide_type": "slide"
    }
   },
   "source": [
    "## Danke und viel Spaß beim Programmieren!"
   ]
  }
 ],
 "metadata": {
  "celltoolbar": "Slideshow",
  "kernelspec": {
   "display_name": "Python 3",
   "language": "python",
   "name": "python3"
  },
  "language_info": {
   "codemirror_mode": {
    "name": "ipython",
    "version": 3
   },
   "file_extension": ".py",
   "mimetype": "text/x-python",
   "name": "python",
   "nbconvert_exporter": "python",
   "pygments_lexer": "ipython3",
   "version": "3.6.8"
  }
 },
 "nbformat": 4,
 "nbformat_minor": 2
}
